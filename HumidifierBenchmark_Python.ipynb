{
  "nbformat": 4,
  "nbformat_minor": 0,
  "metadata": {
    "colab": {
      "private_outputs": true,
      "provenance": [],
      "authorship_tag": "ABX9TyNovSKL3ChPMefTnTVQOS5o",
      "include_colab_link": true
    },
    "kernelspec": {
      "name": "python3",
      "display_name": "Python 3"
    },
    "language_info": {
      "name": "python"
    }
  },
  "cells": [
    {
      "cell_type": "markdown",
      "metadata": {
        "id": "view-in-github",
        "colab_type": "text"
      },
      "source": [
        "<a href=\"https://colab.research.google.com/github/arcmateo/GasHumidifierBenchmark/blob/main/HumidifierBenchmark_Python.ipynb\" target=\"_parent\"><img src=\"https://colab.research.google.com/assets/colab-badge.svg\" alt=\"Open In Colab\"/></a>"
      ]
    },
    {
      "cell_type": "markdown",
      "source": [
        "# Experimental Data"
      ],
      "metadata": {
        "id": "6_g0PIibMnUE"
      }
    },
    {
      "cell_type": "markdown",
      "source": [
        "Test Data by Solsona et al. (Figures 4 to 6), taken from https://doi.org/10.1016/j.enconman.2017.01.036\n",
        "\n",
        "Air temperature at humidifier outlet:"
      ],
      "metadata": {
        "id": "pMtEModzNErK"
      }
    },
    {
      "cell_type": "code",
      "source": [
        "t_TAir_Sol = [0, 63, 252, 641, 1197, 1607, 2091, 2627, 3373, 4077, 4854, 5968]\n",
        "TAir_Sol = [27.3, 27.3, 29.6, 37.7, 49.4, 58.1, 64.4, 69.1, 72, 73, 73.5, 73.4]"
      ],
      "metadata": {
        "id": "UPuk-bWRMrtO"
      },
      "execution_count": null,
      "outputs": []
    },
    {
      "cell_type": "markdown",
      "source": [
        "Relative humidity of air at humidifier outlet:"
      ],
      "metadata": {
        "id": "jpXh2MstOS7d"
      }
    },
    {
      "cell_type": "code",
      "source": [
        "t_RH_Sol = [31, 279, 445, 621, 632, 1066, 1688, 2650, 3458, 3996, 4928, 5964]\n",
        "RH_Sol = [200, 198.7, 159, 131.2, 119, 107, 98.5, 90.8, 88.6, 87.3, 87.4, 87.2]"
      ],
      "metadata": {
        "id": "thL5CDaYOTRT"
      },
      "execution_count": null,
      "outputs": []
    },
    {
      "cell_type": "markdown",
      "source": [
        "Air pressure at humidifier outlet:"
      ],
      "metadata": {
        "id": "RI0eHhlwQjMI"
      }
    },
    {
      "cell_type": "code",
      "source": [
        "t_P5_Sol = [0, 941, 1924, 2775, 3610, 4314, 4879, 5558, 5959]\n",
        "P5_Sol = [108627, 109020, 109804, 110784, 111569, 111765, 111765, 111569, 111569]"
      ],
      "metadata": {
        "id": "nhWqVqKXQoGG"
      },
      "execution_count": null,
      "outputs": []
    },
    {
      "cell_type": "markdown",
      "source": [
        "# Computational model"
      ],
      "metadata": {
        "id": "H6Lx9YYkUIGx"
      }
    },
    {
      "cell_type": "markdown",
      "source": [
        "## Libraries and modules"
      ],
      "metadata": {
        "id": "mM-OrxAbTgB4"
      }
    },
    {
      "cell_type": "markdown",
      "source": [
        "Libraries and modules that are required to run the code:"
      ],
      "metadata": {
        "id": "sFyHmvoDUAh3"
      }
    },
    {
      "cell_type": "code",
      "source": [
        "import numpy as np\n",
        "import matplotlib.pyplot as plt\n",
        "import math as m\n",
        "%matplotlib inline"
      ],
      "metadata": {
        "id": "vOarR9WsT8CO"
      },
      "execution_count": null,
      "outputs": []
    },
    {
      "cell_type": "markdown",
      "source": [
        "## Total simulation time"
      ],
      "metadata": {
        "id": "-SJDSuboUkln"
      }
    },
    {
      "cell_type": "code",
      "source": [
        "Simulation_time = 6000 # [s]\n",
        "Step = 0.01 # [s]\n",
        "Iterations = round(Simulation_time/Step)\n",
        "tSimula = np.linspace(0, Simulation_time, Iterations+1)"
      ],
      "metadata": {
        "id": "xiSmUw-hUqFu"
      },
      "execution_count": null,
      "outputs": []
    },
    {
      "cell_type": "markdown",
      "source": [
        "## Corrections"
      ],
      "metadata": {
        "id": "jRJsjpXLVXRt"
      }
    },
    {
      "cell_type": "code",
      "source": [
        "# Mass transfer coefficient:\n",
        "CorrecK_MT = 0.795\n",
        "\n",
        "# Volumetric flow rate of air:\n",
        "CorrecFlowRate = 1.1\n",
        "\n",
        "# Fraction of heat lost to the surroundings:\n",
        "CorrecQLost = 0.23\n",
        "\n",
        "# Height fraction of shell filled with liquid water:\n",
        "FracFilled = 0.8\n",
        "\n",
        "# Pressure produced by the compressor over the atmospheric pressure:\n",
        "CorrecPCompres = 0.925 + 0.00432\n",
        "\n",
        "# Heater loss of the last section of pipe:\n",
        "CorrecQHeaterAir = 0.7\n",
        "\n",
        "# Control action of the heater in the final section:\n",
        "Control_action_2 = 0.15"
      ],
      "metadata": {
        "id": "xb2Osq2zVnvd"
      },
      "execution_count": null,
      "outputs": []
    },
    {
      "cell_type": "markdown",
      "source": [
        "## General parameters and constants"
      ],
      "metadata": {
        "id": "Gx7sZb9FEIYj"
      }
    },
    {
      "cell_type": "code",
      "source": [
        "# Acceleration due to gravity:\n",
        "g = 9.8 # [m/s2]\n",
        "\n",
        "# Universal gas constant:\n",
        "R = 8.31441 # [kJ/kmol K] o  [Pa m3/mol K] o  [kPa m3/kmol K]\n",
        "\n",
        "# Air molar mass:\n",
        "MM_Air = 29 # [kg/kmol]\n",
        "\n",
        "# Water molar mass:\n",
        "MM_Vapor = 18 # [kg/kmol]\n",
        "\n",
        "# Absolute roughness of the stainless steel tube (Steel):\n",
        "RoughSteel = 45e-6 # [m]\n",
        "\n",
        "# Absolute roughness of Teflon (polytetrafluoroethylene) hose (Tefl):\n",
        "RoughTefl = 1.5e-6 # [m]\n",
        "\n",
        "# Barcelona atmospheric pressure:\n",
        "PAtm = 101325 # [Pa]\n",
        "\n",
        "# Heat capacity of liquid water at average humidifier temperature:\n",
        "Cp_w_liq = 4.184 # [kJ/(Kg-K)]\n",
        "\n",
        "# Heat of vaporization of water at average humidifier temperature:\n",
        "LambdaVap = 2360 # [kJ/kg]\n",
        "\n",
        "# Heat transferred by the electric heater of the humidifier (Heater 1):\n",
        "Qdot_Heater1 = 123/1000 # [kJ/s]\n",
        "\n",
        "# Heat lost through conduction and to the surroundings:\n",
        "QLost = CorrecQLost*Qdot_Heater1 # [kJ/s]\n",
        "\n",
        "# Density of liquid water at 60°C to evaluate the mass of water in the humidifier:\n",
        "Rho_Water_60 = 983 # [kg/m3]\n",
        "\n",
        "# Heat transferred by the tube heater in the last section (Heater 2):\n",
        "Qdot_Heater2 = CorrecQHeaterAir*5/1000 # [kJ/s]\n",
        "\n",
        "# Heat transfer coefficient from the tubes to the air inside the tubes:\n",
        "hAir = (50/1000)\n",
        "\n",
        "# Parameters for calculating fluid properties:\n",
        "\n",
        "# Antoine's equation constants for water vapor pressure:\n",
        "A = 16.5362\n",
        "B = 3985.44\n",
        "C = -38.9974\n",
        "\n",
        "# Constants for the Irving and Liley dry air viscosity equation:\n",
        "MA0 = -9.8601e-1\n",
        "MA1 = 9.080125e-2\n",
        "MA2 = -1.17635575e-4\n",
        "MA3 = 1.2349703e-7\n",
        "MA4 = -5.7971299e-11\n",
        "\n",
        "# Constants for the viscosity of water vapor:\n",
        "MV0 = 8.058131868e1\n",
        "MV1 = 4.000549451e-1"
      ],
      "metadata": {
        "id": "BCo-oUCkEHYl"
      },
      "execution_count": null,
      "outputs": []
    },
    {
      "cell_type": "markdown",
      "source": [
        "## Operation data"
      ],
      "metadata": {
        "id": "9g17A_j_Y0Co"
      }
    },
    {
      "cell_type": "markdown",
      "source": [
        "Known pressures at points marked between circles on the PFD (Process Fow Diagram):"
      ],
      "metadata": {
        "id": "jBfsBIlpY7eD"
      }
    },
    {
      "cell_type": "code",
      "source": [
        "# Pressure at the compressor outlet, taken as the discharge pressure,\n",
        "# which must be adjusted with the calculations of the rest of the sections:\n",
        "P0 = np.ones(Iterations+1)*CorrecPCompres*156483 # [Pa]\n",
        "\n",
        "# Initial pressure at Point 1 on the PFD. An estimated value is placed, which is taken\n",
        "# from the last successful simulation. As it is a function of the flow rate,\n",
        "# it should be adjusted with this parameter. A constant value is used here:\n",
        "P1_EstimaIni  = 139540 # [Pa]"
      ],
      "metadata": {
        "id": "ZbVsSGjMY8JS"
      },
      "execution_count": null,
      "outputs": []
    },
    {
      "cell_type": "markdown",
      "source": [
        "Humidity and temperature conditions of the inlet atmospheric air:"
      ],
      "metadata": {
        "id": "BUpk2dQSY98z"
      }
    },
    {
      "cell_type": "code",
      "source": [
        "# Relative humidity in Barcelona, given by Solsona 2017:\n",
        "RHAmb_Porc = 60 # [%]\n",
        "\n",
        "# Relative humidity in its fraction equivalence:\n",
        "RHAmb = np.zeros(Iterations+1)\n",
        "RHAmb[0]= RHAmb_Porc/100\n",
        "\n",
        "# Temperature, taken from Fig. 4 of the Solsona paper:\n",
        "TAmb = 27 + 273.15 # [K]\n",
        "\n",
        "# Relative humidity at humidifier outlet at startup:\n",
        "RH5 = np.zeros(Iterations+1)\n",
        "RH5[0] = RHAmb[0] # The device starts full of air\n",
        "\n",
        "# Relative humidity at the exit of the entire assembly (entrance to the cell) at startup:\n",
        "RH6 = np.zeros(Iterations+1)\n",
        "RH6[0] = RHAmb[0] # The device starts full of air\n",
        "\n",
        "# Temperature at the compressor outlet:\n",
        "T0 = TAmb # [K]\n",
        "# Temperature increase due to compression is negligible\n",
        "\n",
        "# Initial value of the temperature at the humidifier outlet:\n",
        "T5 = np.zeros(Iterations+1)\n",
        "T5[0] = T0 # [K] It is assumed equal to the compressor outlet or point 0.\n",
        "\n",
        "# Gas temperature at the exit of the entire assembly (entrance to the cell) at startup:\n",
        "T6 = np.zeros(Iterations+1)\n",
        "T6[0] = T0 # [K]\n",
        "\n",
        "# Temperature of the liquid water contained in the humidifier at startup:\n",
        "T8 = np.zeros(Iterations+1)\n",
        "T8[0] = T0 # [K]\n",
        "\n",
        "# Liquid water temperature at humidifier inlet:\n",
        "T_InLiqWater = 20 + 273.15 # [K]"
      ],
      "metadata": {
        "id": "8jrL-Q4UZAq6"
      },
      "execution_count": null,
      "outputs": []
    },
    {
      "cell_type": "markdown",
      "source": [
        "Relative heights of the points in the assembly. The points marked with circles on the PFD. All distances are measured from the floor of the assembly box:"
      ],
      "metadata": {
        "id": "mDsWTaUDZFwu"
      }
    },
    {
      "cell_type": "code",
      "source": [
        "# Height of the compressor discharge:\n",
        "z0 = 0.20 # [m]\n",
        "\n",
        "# Height of the mixing Tee:\n",
        "z1 = 0.08 # [m]\n",
        "\n",
        "# Height of the Tee that is before the filter. It's right on the floor of the assembly box:\n",
        "z2 = 0 # [m]\n",
        "\n",
        "# Height of change from steel tube to Teflon hose:\n",
        "z3 = 0.02 # [m]\n",
        "\n",
        "# Height of the air at the humidifier inlet:\n",
        "z4 = 0.175 # [m]\n",
        "\n",
        "# Height at the humidifier outlet, assumed lower on the assembly floor:\n",
        "z5 = 0 # [m]\n",
        "\n",
        "# Height of the fuel cell entrance, assumed to be on the assembly floor:\n",
        "z6 = 0 # [m]"
      ],
      "metadata": {
        "id": "HNWPbVJeZHye"
      },
      "execution_count": null,
      "outputs": []
    },
    {
      "cell_type": "markdown",
      "source": [
        "## Parameters for friction losses"
      ],
      "metadata": {
        "id": "QVaCgLz6WNWr"
      }
    },
    {
      "cell_type": "markdown",
      "source": [
        "Parameters K1 and K Infinite of the 2K method. Valid for all sections since they are universal values of the method that only depend on the type of connection between the fittings:"
      ],
      "metadata": {
        "id": "flHLU3HQWY6g"
      }
    },
    {
      "cell_type": "code",
      "source": [
        "# Standard welded 90° elbows:\n",
        "K1_90 = 800 # Standard, Flanged - welded\n",
        "Kinf_90 = 0.25 # Standard, Flanged - welded\n",
        "\n",
        "# Standard welded 45° elbows:\n",
        "K1_45 = 500 # Standard, Flanged - welded\n",
        "Kinf_45 = 0.2 # Standard, Flanged - welded\n",
        "\n",
        "# Flanges considered as flow-through Tee unions:\n",
        "K1_Union = 150 # run-trhough tee: Flanged - welded\n",
        "Kinf_Union = 0.5 # run-trhough tee: Flanged - welded\n",
        "\n",
        "# Tee as standard welded 90° elbow:\n",
        "K1_90_Tee = 800 # Standard, Flanged - welded\n",
        "Kinf_90_Tee = 0.8 # Standard, Flanged - welded\n",
        "\n",
        "# Valve coefficient:\n",
        "kvs = 1.75 # [m3/h]"
      ],
      "metadata": {
        "id": "2o6V-zweWRlm"
      },
      "execution_count": null,
      "outputs": []
    },
    {
      "cell_type": "markdown",
      "source": [
        "Common values and calculations for Teflon (Tefl) and Stainless Steel (Steel) hose lines:"
      ],
      "metadata": {
        "id": "WX_4kKiqXEEU"
      }
    },
    {
      "cell_type": "code",
      "source": [
        "# Diameter and flow area of Teflon (Tefl) hose with nominal diameter 4.0 mm:\n",
        "DTefl_inches = 4.0/25.4 # [in]\n",
        "DTefl_cm = DTefl_inches*2.54 # [cm]\n",
        "DTefl = DTefl_cm/100 # [m]\n",
        "ATefl = m.pi*(DTefl**2)/4 # [m2]\n",
        "\n",
        "# Diameter and flow area of stainless steel hose (Steel) with nominal diameter 4.25 mm:\n",
        "Dsteel_inches = 4.25/25.4 # [in]\n",
        "Dsteel_cm = Dsteel_inches*2.54 # [cm]\n",
        "Dsteel = Dsteel_cm/100 # [m]\n",
        "Asteel = m.pi*(Dsteel**2)/4 # [m2]"
      ],
      "metadata": {
        "id": "9XRsWio9XHjj"
      },
      "execution_count": null,
      "outputs": []
    },
    {
      "cell_type": "markdown",
      "source": [
        "Stainless steel section between points 0 and 1 (**Steel01**):\n",
        "\n",
        "(All fittings are in stainless steel)"
      ],
      "metadata": {
        "id": "-FOfMk2OXLaT"
      }
    },
    {
      "cell_type": "code",
      "source": [
        "# Total length of the Steel01 section with constant diameter:\n",
        "L_Steel01 = 0.14 # [m]\n",
        "\n",
        "# Volume of Humid Air contained in this section (which, since there is no change\n",
        "# in diameter, is equal to the total volume, without considering the volume\n",
        "# contained in the fittings, it is left as an error because it is small):\n",
        "V_Steel01 = Asteel*L_Steel01 # [m3]"
      ],
      "metadata": {
        "id": "U2du-d2iXSzW"
      },
      "execution_count": null,
      "outputs": []
    },
    {
      "cell_type": "markdown",
      "source": [
        "Teflon section between points 1 and 2 (**Tefl12**):\n",
        "\n",
        "(All fittings are in stainless steel)"
      ],
      "metadata": {
        "id": "BVgcI8pQXcu-"
      }
    },
    {
      "cell_type": "code",
      "source": [
        "# Total length of the Tefl12 section with constant diameter:\n",
        "L_Tefl12 = 1.05 # [m]\n",
        "\n",
        "# Volume of humid air contained in this section (under the same assumption of the previous section):\n",
        "V_Tefl12 = ATefl*L_Tefl12 # [m3]"
      ],
      "metadata": {
        "id": "qSaxbsOiXfIh"
      },
      "execution_count": null,
      "outputs": []
    },
    {
      "cell_type": "markdown",
      "source": [
        "Stainless steel section between points 2 and 3 (**Steel23**):\n",
        "\n",
        "(All fittings are in stainless steel)"
      ],
      "metadata": {
        "id": "sscpst07XlwK"
      }
    },
    {
      "cell_type": "code",
      "source": [
        "# Total length of the Steel23 section with constant diameter:\n",
        "L_Steel23 = 0.14+0.09+0.06+0.05+0.06+0.04+0.06+0.28+0.02+0.05+0.24 # [m]\n",
        "\n",
        "# Volume of humid air contained in this section (under the same assumption of the previous section):\n",
        "V_Steel23 = Asteel*L_Steel23 # [m3]"
      ],
      "metadata": {
        "id": "0t_HqHNSXoOB"
      },
      "execution_count": null,
      "outputs": []
    },
    {
      "cell_type": "markdown",
      "source": [
        "Teflon section between points 3 and 4 (**Tefl34**):\n",
        "\n",
        "(All fittings are in stainless steel)"
      ],
      "metadata": {
        "id": "ZjaN9f9Meqq6"
      }
    },
    {
      "cell_type": "code",
      "source": [
        "# Total length of the Tefl34 section with constant diameter:\n",
        "L_Tefl34 = 0.45 + 0.95 # [m]\n",
        "\n",
        "# Volume of humid air contained in this section (under the same assumption of the previous section):\n",
        "V_Tefl34 = ATefl*L_Tefl34 # [m3]"
      ],
      "metadata": {
        "id": "sR9aNCGoetEy"
      },
      "execution_count": null,
      "outputs": []
    },
    {
      "cell_type": "markdown",
      "source": [
        "**NOTE:** between points 4 and 5 is the humidifier, whose pressure drop is calculated using the data provided by the manufacturer of that equipment, see below."
      ],
      "metadata": {
        "id": "GUdLsoPxXsoY"
      }
    },
    {
      "cell_type": "markdown",
      "source": [
        "Teflon section between points 5 and 6 (**Tefl56**):\n",
        "\n",
        "(All fittings are in stainless steel)"
      ],
      "metadata": {
        "id": "9m3WZZFBXxgA"
      }
    },
    {
      "cell_type": "code",
      "source": [
        "# Total length of the Tefl56 section with constant diameter:\n",
        "L_Tefl56 = 0.63 # [m]\n",
        "\n",
        "# Volume of humid air contained in this section (under the same assumption of the previous section):\n",
        "V_Tefl56 = ATefl*L_Tefl56 # [m3]"
      ],
      "metadata": {
        "id": "PRn8NsDcXz7B"
      },
      "execution_count": null,
      "outputs": []
    },
    {
      "cell_type": "markdown",
      "source": [
        "Volumetric flow rate of air measured under normal conditions, as delivered by the flowmeter: NL are Normal Liters:"
      ],
      "metadata": {
        "id": "Vcr5-aGDX5VU"
      }
    },
    {
      "cell_type": "code",
      "source": [
        "VdotN_Measured = CorrecFlowRate*5.0 # [NL/min] measured in each test, 5.0 is an intermediate value"
      ],
      "metadata": {
        "id": "qApKjC8FX8bE"
      },
      "execution_count": null,
      "outputs": []
    },
    {
      "cell_type": "markdown",
      "source": [
        "Normal cubic meter (Nm3) - Temperature: 0 °C, Pressure: 1.01325 barA\n",
        "\n",
        "Standard cubic meter (Sm3) - Temperature: 20 °C, Pressure: 1.01325 barA\n",
        "\n",
        "To convert to laboratory conditions, apply:\n",
        "\n",
        "Q1 = (T1/T2)*(P2/P1)*Q2"
      ],
      "metadata": {
        "id": "RzWib8fVX9Fb"
      }
    },
    {
      "cell_type": "code",
      "source": [
        "# Flow rate in NL/min corrected to the ambient conditions of the laboratory.\n",
        "# Note that it is calculated with the pressure at Point 1:\n",
        "Vdot_Amb_L_min = (TAmb/273.15)*(P1_EstimaIni/PAtm)*VdotN_Measured # [L/min]\n",
        "\n",
        "# Conversion to [m3/s]:\n",
        "Vdot_Amb = Vdot_Amb_L_min*(1/1000)*(1/60) # [m3/s]"
      ],
      "metadata": {
        "id": "bIfXbRkTYJXW"
      },
      "execution_count": null,
      "outputs": []
    },
    {
      "cell_type": "markdown",
      "source": [
        "Conversion to mass flow:"
      ],
      "metadata": {
        "id": "BeqlDZOeYMTc"
      }
    },
    {
      "cell_type": "code",
      "source": [
        "# Vapor pressure of water at ambient laboratory conditions with Antoine's equation:\n",
        "PVaporAmb = 1000*np.exp(A-(B/(TAmb+C)))\n",
        "\n",
        "# Mole fraction of water vapor at the saturation point measured at ambient conditions:\n",
        "y_sat_Amb = PVaporAmb/PAtm\n",
        "\n",
        "# Mole fraction of water vapor at atmospheric air conditions:\n",
        "y_Amb = y_sat_Amb*RHAmb[0]\n",
        "\n",
        "# Sets the initial value at startup:\n",
        "y_6 = np.zeros(Iterations+1)\n",
        "y_6[0] = y_Amb\n",
        "\n",
        "# Note that mole fractions are used even though all balances are made in mass units.\n",
        "# This is because the relationship between mole fractions and partial pressures is direct.\n",
        "# Calculation of Density mixture of Dry Air (DA) and Water Vapor (WV) at ambient laboratory conditions:\n",
        "Rhomix_Amb = (0.001*PAtm/(R*TAmb))*MM_Air*(1 - y_Amb*(1 - (MM_Vapor/MM_Air))) # [kg/m3]\n",
        "# (Remember that the R units of gases require compensation by (1/1000)\n",
        "# to use pressure in Pa and the mass in mole and not in kmol)\n",
        "\n",
        "# Molar mass of the mixture at ambient laboratory conditions:\n",
        "MM_mixAmb = y_Amb*MM_Vapor + (1 - y_Amb)*MM_Air # [kg/kmol]\n",
        "\n",
        "# Air mass flow measured at atmospheric inlet humidity conditions:\n",
        "mdotmix_Amb = Vdot_Amb*Rhomix_Amb # [kg/s]\n",
        "\n",
        "# Set the mole fraction of water vapor at the humidifier outlet to the inlet  mole fraction\n",
        "# at the initial instant, assuming that the entire system is full of atmospheric air at startup:\n",
        "y_5 = np.zeros(Iterations+1)\n",
        "y_5[0] = y_Amb\n",
        "\n",
        "# Conversion of mole fraction of water vapor to mass fraction:\n",
        "w_5= np.zeros(Iterations+1)\n",
        "w_5[0] = y_5[0]*(MM_Vapor/MM_mixAmb)"
      ],
      "metadata": {
        "id": "y5aQVMZuYM8i"
      },
      "execution_count": null,
      "outputs": []
    },
    {
      "cell_type": "markdown",
      "source": [
        "## Humidifier parameters"
      ],
      "metadata": {
        "id": "SFUP_VUXnwaq"
      }
    },
    {
      "cell_type": "markdown",
      "source": [
        "Concentration of water in the membrane at the water side. This parameter is critical for tuning. Values: 14 to 22:"
      ],
      "metadata": {
        "id": "kKXraPbChlmB"
      }
    },
    {
      "cell_type": "code",
      "source": [
        "# Dry membrane density:\n",
        "RhoMem_Dry = 0.002*1000*1000 # [kg/m3] originally given in [kg/cm3]\n",
        "\n",
        "# Molar mass of dry membrane:\n",
        "MM_Mem_Dry = 1100 # [kg/kmol]\n",
        "\n",
        "# Alpha for Water. The constant value taken from literature by Solsona et al. is 22,\n",
        "# too high for operating condition. We take that of Chen et al., who experimentally adjust to this value:\n",
        "AlphaW = 15.6\n",
        "\n",
        "# Molar volumetric concentration of water in membrane at water side:\n",
        "CW_MemW_cte = (RhoMem_Dry/MM_Mem_Dry)*AlphaW\n",
        "\n",
        "# Parameter associated with the activation energy of the water molecule (Solsona et al. 2017):\n",
        "E0 = 7378 # [kJ/kmol]"
      ],
      "metadata": {
        "id": "oZ0zOELbhnYX"
      },
      "execution_count": null,
      "outputs": []
    },
    {
      "cell_type": "markdown",
      "source": [
        "Dimensions of the Nafion tubes and the humidifier shell:"
      ],
      "metadata": {
        "id": "f8YkHlYgh6G3"
      }
    },
    {
      "cell_type": "code",
      "source": [
        "# Internal diameter of a Nafion tube, for air flow:\n",
        "D_Int_TubeNafion = 0.00132 # [m] From Cheng, Li and Peng\n",
        "\n",
        "# Membrane thickness of each Nafion tube:\n",
        "# Average value: Solsona uses 0.0127 cm = 127 um in the simulator. Chen, Li and Pen give 140 um.\n",
        "Thickness_Mem_Nafion = 133.5/1000000 # microns converted to [m]\n",
        "\n",
        "# Average value of internal-external diameters to calculate average mass transfer area:\n",
        "D_Avg_TubeNafion=D_Int_TubeNafion+Thickness_Mem_Nafion\n",
        "\n",
        "# Total height of the humidifier shell:\n",
        "L_ShellHumid = 0.175 # [m] equals (z4-z5)\n",
        "\n",
        "# Effective height for mass transfer through the Nafion tubes,\n",
        "# which is assumed equal to 90% of the total height of the cylinder:\n",
        "L_Efec_TubeNafion = FracFilled*L_ShellHumid # [m]"
      ],
      "metadata": {
        "id": "BDXd3ewBn1iZ"
      },
      "execution_count": null,
      "outputs": []
    },
    {
      "cell_type": "markdown",
      "source": [
        "Data and calculations related to the Nafion tubes inside the humidifier:"
      ],
      "metadata": {
        "id": "S98z8uIyoprq"
      }
    },
    {
      "cell_type": "code",
      "source": [
        "# Number of Nafion tubes in the humidifier:\n",
        "# (If in 25mm (491mm2 Area) of shell Chen et al. accommodate 60 tubes,\n",
        "# how many tubes can be accommodated in a shell of 103.4mm (8937mm2).\n",
        "# There will be 17 times that number of tubes, that is, 1026 tubes.\n",
        "# We will assume 5 times just to equal the heat transfer area reported by Solsona in his work = 0.2 m2)\n",
        "NumTubesNafion = 1100\n",
        "\n",
        "# Area for total mass and heat transfer adding all the Nafion tubes.\n",
        "# It is assumed equal to the surface area:\n",
        "A_Mem = NumTubesNafion*(m.pi*D_Avg_TubeNafion*L_Efec_TubeNafion ) # [m2]\n",
        "\n",
        "# Heat transfer area of the Nafion tubes, which is assumed to be the surface area\n",
        "# and therefore equal to the mass transfer area:\n",
        "A_H_Tubes = A_Mem # [m2] according to Solsona is about 0.2 m2\n",
        "\n",
        "# Internal flow area for air in a Nafion tube:\n",
        "A_IntFlowOneTubeNafion = m.pi*((D_Int_TubeNafion**2)/4) # [m2]\n",
        "\n",
        "# Internal volume of a Nafion tube:\n",
        "V_OneTubeNafion = A_IntFlowOneTubeNafion*L_Efec_TubeNafion # [m3]\n",
        "\n",
        "# Total volume of humid air contained in all Nafion tubes:\n",
        "V_mixHumidifier = V_OneTubeNafion*NumTubesNafion # [m3]\n",
        "\n",
        "# Initial mass of humid air contained in the Nafion tubes:\n",
        "M_PS_V = np.zeros(Iterations+1)\n",
        "M_PS_V[0] = V_mixHumidifier*Rhomix_Amb # [kg]\n",
        "\n",
        "# External diameter of a Nafion Tube:\n",
        "# (For volume occupied by the tubes):\n",
        "D_Ext_TubeNafion = D_Int_TubeNafion + (2*Thickness_Mem_Nafion) # [m]\n",
        "\n",
        "# Projected (external) area of a Nafion tube:\n",
        "A_ProjExtOneTubeNafion = m.pi*((D_Ext_TubeNafion**2)/4) # [m2]\n",
        "\n",
        "# Total (external) volume occupied by a Nafion tube up to the liquid level,\n",
        "# since it is considered that the shell is not 100% full of liquid:\n",
        "V_ExtOneTubeNafion = A_ProjExtOneTubeNafion*L_Efec_TubeNafion # [m3]\n",
        "\n",
        "# Total volume occupied by the Nafion tubes in the humidifier:\n",
        "V_ExtTubesNafion = V_ExtOneTubeNafion*NumTubesNafion # [m3]\n",
        "\n",
        "# Area compensation to calculate the volume of water inside the cylinder:\n",
        "# Diameter of the cylinder that acts as the humidifier shell:\n",
        "D_Cylinder = 0.95*0.1034 # [m] Penalized by wall thickness\n",
        "\n",
        "# Flow area of the cylindrical humidifier shell, assuming that the given diameter is the internal:\n",
        "A_FlowCylinder = (m.pi*D_Cylinder**2)/4 # [m2]\n",
        "\n",
        "# Total volume or capacity of the humidifier shell:\n",
        "Vol_ShellHumid = A_FlowCylinder*L_Efec_TubeNafion # [m3]\n",
        "\n",
        "# Maximum liquid water volume inside the shell:\n",
        "Vol_WaterMaxShellHumid = Vol_ShellHumid - V_ExtTubesNafion # [m3]\n",
        "\n",
        "# Mass of liquid water contained in the humidifier at a constant level:\n",
        "M_PSVI = Vol_WaterMaxShellHumid*Rho_Water_60 # [m3]"
      ],
      "metadata": {
        "id": "lBZCRD6hotex"
      },
      "execution_count": null,
      "outputs": []
    },
    {
      "cell_type": "markdown",
      "source": [
        "## Vectors for updating variables and parameters:"
      ],
      "metadata": {
        "id": "SPm4S3uP03MV"
      }
    },
    {
      "cell_type": "code",
      "source": [
        "TAmb = np.zeros(Iterations+1)\n",
        "TAmb[0] = 300.15 # [K]\n",
        "RH0 = np.zeros(Iterations+1)\n",
        "P1 = np.zeros(Iterations+1)\n",
        "P2 = np.zeros(Iterations+1)\n",
        "P3 = np.zeros(Iterations+1)\n",
        "P4 = np.zeros(Iterations+1)\n",
        "P5 = np.zeros(Iterations+1)\n",
        "P6 = np.zeros(Iterations+1)\n",
        "RH1 = np.zeros(Iterations+1)\n",
        "RH2 = np.zeros(Iterations+1)\n",
        "RH3 = np.zeros(Iterations+1)\n",
        "RH4 = np.zeros(Iterations+1)\n",
        "RHmeanAir = np.zeros(Iterations+1)\n",
        "RHmeanMem = np.zeros(Iterations+1)\n",
        "AlphaAir = np.zeros(Iterations+1)\n",
        "AlphaMem = np.zeros(Iterations+1)\n",
        "CW_MemAir = np.zeros(Iterations+1)\n",
        "CW_MemW = np.zeros(Iterations+1)\n",
        "K_MT = np.zeros(Iterations+1)\n",
        "Mprim_v = np.zeros(Iterations+1)\n",
        "FlowMT = np.zeros(Iterations+1)\n",
        "MM_mix45 = np.zeros(Iterations+1)\n",
        "mdot4 = np.zeros(Iterations+1)\n",
        "mdot5 = np.zeros(Iterations+1)\n",
        "w_4 = np.zeros(Iterations+1)\n",
        "PVapor5 = np.zeros(Iterations+1)\n",
        "PVapor6 = np.zeros(Iterations+1)"
      ],
      "metadata": {
        "id": "QF1q2iOO06VU"
      },
      "execution_count": null,
      "outputs": []
    },
    {
      "cell_type": "markdown",
      "source": [
        "## Calculation:"
      ],
      "metadata": {
        "id": "UyNwQtZ2UvOP"
      }
    },
    {
      "cell_type": "code",
      "source": [
        "for i in range(0,Iterations):\n",
        "\n",
        "# Block of possible disturbances: RHAmb, TAmb, and P0:\n",
        "  if tSimula[i] > 3000:\n",
        "# To apply disturbances on initial values\n",
        "    RHAmb[i] = 1.0*RHAmb[0]\n",
        "    TAmb[i] = 1.0*TAmb[0]\n",
        "    P0[i] = 1.0*P0[0]\n",
        "\n",
        "  else:\n",
        "    RHAmb[i] = RHAmb[0]\n",
        "    TAmb[i] = TAmb[0]\n",
        "    P0[i] = P0[0]\n",
        "\n",
        "# Calculate the mole fraction of water vapor in air at the atmospheric air inlet conditions,\n",
        "# in the compressor suction: T=TAmb and P=PAtm:\n",
        "\n",
        "# Vapor pressure of water at the conditions of the entry point to the section with Antoine's equation:\n",
        "  PVaporAmb = 1000*np.exp(A-(B/(TAmb[i]+C)))\n",
        "\n",
        "# Mole fraction of water vapor at the saturation point measured at ambient conditions:\n",
        "  y_sat_Amb = PVaporAmb/PAtm\n",
        "\n",
        "# Mole fraction of water vapor at atmospheric air conditions:\n",
        "  y_Amb = y_sat_Amb*RHAmb[i]\n",
        "\n",
        "# Block for calculating friction losses section by section, updating the pressure value at\n",
        "# each terminal point. In each section the conditions of the air-water vapor mixture are updated:\n",
        "\n",
        "# ------------------------------------------------------------------------------\n",
        "# PROCESS SYSTEM PS_I:\n",
        "# Stainless Steel section between points 0 and 1 (Steel01):\n",
        "# ------------------------------------------------------------------------------\n",
        "# Vapor pressure of water at the conditions of the entry point to the section with Antoine's equation:\n",
        "  PVapor0 = 1000*np.exp(A-(B/(T0+C)))\n",
        "\n",
        "# Mole fraction of water vapor at the saturation point measured at the conditions of the entry point to the section:\n",
        "  y_Sat_0 = PVapor0/P0[i]\n",
        "# Updates the mole fraction of water vapor for the section.\n",
        "# These moles only change if there is addition or removal of Water Vapor.\n",
        "# Otherwise they are constant. Since there is no addition or removal of water vapor,\n",
        "# they are the same as the previous ones:\n",
        "  y_0 = y_Amb\n",
        "\n",
        "# Updates the Relative Humidity in fraction for the section entry conditions.\n",
        "# Relative Humidity changes if T changes or P changes. See pp.17 Rotronic Humidity Handbook:\n",
        "  RH0[i] = y_0/y_Sat_0\n",
        "\n",
        "# Calculation of the Density of the mixture Dry Air (DA) and Water Vapor (WV):\n",
        "  Rhomix01 = (0.001*P0[i]/(R*T0))*MM_Air*(1-y_0*(1-(MM_Vapor/MM_Air))) # [kg/m3]\n",
        "\n",
        "# Calculation of the Viscosity of the mixture Dry Air (DA) and Water Vapor (WV):\n",
        "# Viscosity of pure substances as a function of temperature:\n",
        "# Air Viscosity:\n",
        "  MuAir = (1e-6)*(MA0 + MA1*T0 + MA2*T0**2 + MA3*T0**3 + MA4*T0**4)\n",
        "\n",
        "# Water Vapor Viscosity:\n",
        "  T0_Celsius = T0-273.15 # [°C]\n",
        "  MuVapor = (1e-6)*(MV0 + MV1*T0_Celsius)\n",
        "\n",
        "# Wilke interaction factors for the viscosity of gas mixtures:\n",
        "  FiAV = (np.sqrt(2)/4)*( (1+(MM_Air/MM_Vapor))**(-0.5) )*( 1 + (MuAir/MuVapor)**(0.5)*(MM_Vapor/MM_Air)**(1/4) )**2\n",
        "  FiVA = (np.sqrt(2)/4)*( (1+(MM_Air/MM_Vapor))**(-0.5) )*( 1 + (MuVapor/MuAir)**(0.5)*(MM_Air/MM_Vapor)**(1/4) )**2\n",
        "  Mumix01 = ( ((1-y_0)*MuAir)/((1-y_0)+y_0*FiAV) ) + ( (y_0*MuVapor)/(y_0+(1-y_0)*FiVA) )\n",
        "\n",
        "# Find the volumetric flow rate under these conditions, knowing the mass flow rate.\n",
        "# First, it equalizes the mass flow rate to that determined with the environmental conditions:\n",
        "  mdotmix01 = mdotmix_Amb\n",
        "  Vdot_mix01 = mdotmix01/Rhomix01 # [m3/s]\n",
        "\n",
        "# Humid Air velocity that is considered constant in this section because changes in density are not taken into account.\n",
        "  v_Steel01 = Vdot_mix01/Asteel # [m/s]\n",
        "\n",
        "# Reynolds number in the section being analyzed:\n",
        "  Re_01 = Rhomix01*v_Steel01*Dsteel/Mumix01\n",
        "\n",
        "# Darcy friction factor, according to the flow regime:\n",
        "  if Re_01 < 2000:\n",
        "    # Using analytical equation for Laminar flow: % Laminar flow: Re < 2000\n",
        "    fD_01 = 64/Re_01\n",
        "  else:\n",
        "    # Using Shacham's Equation: Transitional flow: 2000 < Re < 4000\n",
        "    # Turbulent flow: Re > 4000\n",
        "    fD_01 = (-2.*m.log(((RoughSteel/Dsteel)/3.71) - (5.02/Re_01)*m.log(((RoughSteel/Dsteel)/3.71) + (14.5/Re_01))))**(-2)\n",
        "\n",
        "# Friction Loss Calculation for the Section:\n",
        "  Kline_01 = (L_Steel01/Dsteel)*fD_01\n",
        "\n",
        "# Sum of the K of the fittings, which in this case are:\n",
        "# Four 90° Elbows\n",
        "# A Tee as an elbow\n",
        "# A three-way valve: see at the end how it is evaluated by a method that is NOT the 2K\n",
        "  KFittings_01 = 4*( (K1_90/Re_01) + Kinf_90*(1+(1/Dsteel_inches)) ) \\\n",
        "  + 1*( (K1_90_Tee/Re_01) + Kinf_90_Tee*(1+(1/Dsteel_inches)))\n",
        "# Four 90° elbows, A Tee as an elbow\n",
        "\n",
        "# Fittings whose losses are NOT calculated with the 2K method:\n",
        "# Three-way valve evaluated at 100% open with only one branch working:\n",
        "# it is not used as a mixer. Flow rate converted to m3/h to use the correlation:\n",
        "  Vdot_mix01_m3_h = Vdot_mix01*3600 # [m3/h]\n",
        "  hf_Valv3Ways01 = 1e5*(Vdot_mix01_m3_h/kvs)**2 # [Pa]\n",
        "\n",
        "# Converted to Velocity Heads (VH):\n",
        "  hf_Valv3Ways01_CV = hf_Valv3Ways01/Rhomix01\n",
        "\n",
        "# Calculate the total K of the analyzed section without including special fittings:\n",
        "  Ktotal_01 = Kline_01 + KFittings_01\n",
        "\n",
        "# Friction losses in the section analyzed in Velocity Heads (VH).\n",
        "# Note that the pressure drop of the special fittings is added in VH:\n",
        "  hf_01_CV = Ktotal_01*0.5*((Vdot_mix01/Asteel)**2) + hf_Valv3Ways01_CV # [m2/s2]\n",
        "\n",
        "# Friction losses in the analyzed section in Pascals [Pa]:\n",
        "  hf_01_Pa = hf_01_CV*Rhomix01 # [(m2/s2)*(kg/m3)]=[kg/m-s2]=[Pa]\n",
        "\n",
        "# With the value of losses in Velocity Heads, the Pressure at point 1 can be found,\n",
        "# solving for P1 in the Mechanical Energy Balance (MEB) between Point 0 and Point 1:\n",
        "  P1[i] = P0[i] - Rhomix01*g*(z0-z1) - Rhomix01*hf_01_CV # [Pa]\n",
        "\n",
        "# Updates the temperature at the end of the section: it equals the temperature\n",
        "# at the entrance under the assumption of negligible thermal energy loss in this section:\n",
        "  T1 = T0\n",
        "# Updates the mole fraction of water vapor in the air at the end of the section.\n",
        "# In this section there is neither removal nor addition of water vapor, the fraction remains the same:\n",
        "  y_1 = y_0\n",
        "\n",
        "# Updates the mass flow of Air and Water Vapor mixture. It only changes if there is addition or removal\n",
        "# of water vapor. In this section there is neither removal nor addition of water vapor,\n",
        "# therefore mass flow remains the same:\n",
        "  mdotmix12 = mdotmix01\n",
        "\n",
        "# ------------------------------------------------------------------------------\n",
        "# PROCESS SYSTEM PS_II:\n",
        "# Teflon section between points 1 and 2 (Tefl12):\n",
        "# ------------------------------------------------------------------------------\n",
        "# Vapor pressure of water at the conditions of the entry point to the section with Antoine's equation:\n",
        "  PVapor1 = 1000*np.exp(A-(B/(T1+C)))\n",
        "\n",
        "# Mole fraction of water vapor at the saturation point measured at the conditions of the entry point to the section:\n",
        "  y_sat_1 = PVapor1/P1[i]\n",
        "\n",
        "# Relative Humidity recalculated at this point after pressure drop:\n",
        "  RH1[i] = y_1/y_sat_1\n",
        "\n",
        "# Calculation of the Density of the mixture Dry Air (DA) and Water Vapor (WV):\n",
        "  Rhomix12 = (0.001*P1[i]/(R*T1))*MM_Air* (1 - y_1*(1 - (MM_Vapor/MM_Air))) # [kg/m3]\n",
        "\n",
        "# Calculation of the Viscosity of the mixture Dry Air (DA) and Water Vapor (WV):\n",
        "# Viscosity of pure substances as a function of temperature:\n",
        "# Air Viscosity:\n",
        "  MuAir = (1e-6)*(MA0 + MA1*T1 + MA2*T1**2 + MA3*T1**3 + MA4*T1**4)\n",
        "\n",
        "# Water vapor viscosity:\n",
        "  T1_Celsius = T1 - 273.15\n",
        "  MuVapor = (1e-6)*(MV0 + MV1*T1_Celsius)\n",
        "\n",
        "# Wilke interaction factors for the viscosity of gas mixtures:\n",
        "  FiAV = (np.sqrt(2)/4)*( (1+(MM_Air/MM_Vapor))**(-0.5) )*( 1 + (MuAir/MuVapor)**(0.5)*(MM_Vapor/MM_Air)**(1/4) )**2\n",
        "  FiVA = (np.sqrt(2)/4)*( (1+(MM_Air/MM_Vapor))**(-0.5) )*( 1 + (MuVapor/MuAir)**(0.5)*(MM_Air/MM_Vapor)**(1/4) )**2\n",
        "  Mumix12 = ( ((1-y_1)*MuAir)/((1-y_1)+y_1*FiAV) ) + ( (y_1*MuVapor)/(y_1+(1-y_1)*FiVA) )\n",
        "\n",
        "# Find the volumetric flow rate under these conditions, knowing the mass flow rate:\n",
        "  Vdot_mix12 = mdotmix12/Rhomix12 # [m3/s]\n",
        "\n",
        "# Humid Air velocity that is considered constant in this section because changes in density are not taken into account.\n",
        "  v_Tefl12 = Vdot_mix12/ATefl # [m/s]\n",
        "\n",
        "# Mass of the mixture contained in the section, without considering the content in fittings:\n",
        "  M_mix12 = Rhomix12*V_Tefl12\n",
        "\n",
        "# Reynolds number in the section being analyzed:\n",
        "  Re_12 = Rhomix12*v_Tefl12*DTefl/Mumix12\n",
        "\n",
        "# Darcy friction factor, according to the flow regime:\n",
        "  if Re_12 < 2000:\n",
        "    # Using Analytical Equation for Laminar Flow\n",
        "    fD_12 = 64/Re_12\n",
        "  else:\n",
        "    # Using Shacham's Equation\n",
        "    fD_12 = (-2.*m.log(((RoughTefl/DTefl)/3.71) - (5.02/Re_12)*m.log(((RoughTefl/DTefl)/3.71) + (14.5/Re_12))))**(-2)\n",
        "\n",
        "# Friction Loss Calculation for the Section:\n",
        "  Kline_12 = (L_Tefl12/DTefl)*fD_12\n",
        "\n",
        "# Sum of the K of the fittings, which in this case are:\n",
        "# This section has no fittings. It is a smooth hose. Calculate the total K of the analyzed section\n",
        "# without including special fittings:\n",
        "  Ktotal_12 = Kline_12\n",
        "\n",
        "# Friction losses in the section analyzed in Velocity Heads (VH):\n",
        "  hf_12_CV = Ktotal_12*0.5*((Vdot_mix12/ATefl)**2) # [m2/s2]\n",
        "\n",
        "# Friction losses in the analyzed section in Pascals [Pa]:\n",
        "  hf_12_Pa = hf_12_CV*Rhomix12 # [(m2/s2)*(kg/m3)]=[kg/m-s2]=[Pa]\n",
        "# With the value of losses in Velocity Heads, the Pressure at point 2 can be found,\n",
        "# solving for P2 in the Mechanical Energy Balance (MEB) between Point 1 and Point 2:\n",
        "  P2[i] = P1[i] - Rhomix01*g*(z1-z2) - Rhomix12*hf_12_CV # [Pa]\n",
        "\n",
        "# Updates the temperature at the end of the section: it equals the temperature at the entrance\n",
        "# under the assumption of negligible thermal energy loss in this section:\n",
        "  T2 = T1\n",
        "\n",
        "# Updates the mole fraction of water vapor in the air at the end of the section.\n",
        "# In this section there is neither removal nor addition of water vapor, the fraction remains the same:\n",
        "  y_2 = y_1\n",
        "\n",
        "# Updates the mass flow of Air and Water Vapor mixture. It only changes if there is addition or\n",
        "# removal of water vapor. In this section there is neither removal nor addition of water vapor, therefore mass flow remains the same:\n",
        "  mdotmix23 = mdotmix12\n",
        "\n",
        "# ------------------------------------------------------------------------------\n",
        "# PROCESS SYSTEM PS_III:\n",
        "# Stainless Steel section between points 2 and 3 (Steel23):\n",
        "# ------------------------------------------------------------------------------\n",
        "# Vapor pressure of water at the conditions of the entry point to the section with Antoine's equation:\n",
        "  PVapor2 = 1000*np.exp(A-(B/(T2+C)))\n",
        "\n",
        "# Mole fraction of water vapor at the saturation point measured at the conditions of the entry point to the section:\n",
        "  y_sat_2 = PVapor2/P2[i]\n",
        "\n",
        "# Updates the Relative Humidity in fraction for the section entry conditions.\n",
        "# Relative Humidity changes if T changes or P changes:\n",
        "  RH2[i] = y_2/y_sat_2\n",
        "\n",
        "# Calculation of the Density of the mixture Dry Air (DA) and Water Vapor (WV):\n",
        "  Rhomix23 = (0.001*P2[i]/(R*T2))*MM_Air* (1 - y_2*(1 - (MM_Vapor/MM_Air) )) # [kg/m3]\n",
        "\n",
        "# Calculation of the Viscosity of the mixture Dry Air (DA) and Water Vapor (WV):\n",
        "# Viscosity of pure substances as a function of temperature:\n",
        "# Air Viscosity:\n",
        "  MuAir = (1e-6)*(MA0 + MA1*T2 + MA2*T2**2 + MA3*T2**3 + MA4*T2**4)\n",
        "\n",
        "# Water Vapor Viscosity:\n",
        "  T2_Celsius = T2 - 273.15\n",
        "  MuVapor = (1e-6)*(MV0 + MV1*T2_Celsius)\n",
        "\n",
        "# Wilke interaction factors for the viscosity of gas mixtures:\n",
        "  FiAV = (np.sqrt(2)/4)*( (1+(MM_Air/MM_Vapor))**(-0.5) )*( 1 + (MuAir/MuVapor)**(0.5)*(MM_Vapor/MM_Air)**(1/4) )**2\n",
        "  FiVA = (np.sqrt(2)/4)*( (1+(MM_Air/MM_Vapor))**(-0.5) )*( 1 + (MuVapor/MuAir)**(0.5)*(MM_Air/MM_Vapor)**(1/4) )**2\n",
        "  Mumix23 = ( ((1-y_2)*MuAir)/((1-y_2)+y_2*FiAV) ) + ( (y_2*MuVapor)/(y_2+(1-y_2)*FiVA) )\n",
        "\n",
        "# Find the volumetric flow rate under these conditions, knowing the mass flow rate:\n",
        "  Qmix23 = mdotmix23/Rhomix23 # [m3/s]\n",
        "\n",
        "# Humid Air velocity that is considered constant in this section because changes in density are not taken into account.\n",
        "  v_Steel23 = Qmix23/Asteel # [m/s]\n",
        "\n",
        "# Mass of the mixture contained in the section, without considering the content in fittings:\n",
        "  M_mix23 = Rhomix23*V_Steel23\n",
        "\n",
        "# Reynolds number in the section being analyzed:\n",
        "  Re_23 = Rhomix23*v_Steel23*Dsteel/Mumix23\n",
        "\n",
        "# Darcy friction factor, according to the flow regime:\n",
        "  if Re_23 < 2000:\n",
        "    # Using Analytical Equation for Laminar Flow\n",
        "    fD_23 = 64/Re_23\n",
        "  else:\n",
        "    # Using Shacham's Equation\n",
        "    fD_23 = (-2.*m.log(((RoughSteel/Dsteel)/3.71) - (5.02/Re_23)*m.log(((RoughSteel/Dsteel)/3.71) + (14.5/Re_23))))**(-2)\n",
        "\n",
        "# Friction Loss Calculation for the Section:\n",
        "  Kline_23 = (L_Steel23/Dsteel)*fD_23\n",
        "\n",
        "# Sum of the K of the fittings, which in this case are:\n",
        "# Seven 90° Elbows, Four 45° Elbows, two Tee as elbow, one flange-type union.\n",
        "# Special Elements: ONE gas filter, ONE flow meter, TWO three-way valves:\n",
        "# see at the end how it is evaluated by a method that is NOT the 2K:\n",
        "  KFittings_23 =  7*( (K1_90/Re_23) + Kinf_90*(1+(1/Dsteel_inches)) )\\\n",
        "  + 4*( (K1_45/Re_23) + Kinf_45*(1+(1/Dsteel_inches)) )\\\n",
        "  + 2*( (K1_90_Tee/Re_23) + Kinf_90_Tee*(1+(1/Dsteel_inches)))\\\n",
        "  + 1*( (K1_Union/Re_23) + Kinf_Union*(1+(1/Dsteel_inches)))\n",
        "# Seven 90° elbows, Four 45° elbows, Two tee as elbow, One flange-type union\n",
        "\n",
        "# Fittings whose losses are NOT calculated with the 2K method:\n",
        "# Filter for inlet air. It is a 1/4\" Swagelok in-line filter, SS-4F-7. 7 micron pore size.\n",
        "# It is adjusted with Q in [m3/s] and DeltaP in [Pa] from the three pressure drop points given by the manufacturer:\n",
        "  DeltaPFilter = -4751461988*(Qmix23)**2 + 56820175.44*(Qmix23) - 925.621345 # [Pa]\n",
        "\n",
        "# Converted to Velocity Heads (VH):\n",
        "  hf_filter_CV = DeltaPFilter/Rhomix23\n",
        "\n",
        "# Flow meter is a: \"flowmeter with no significant restrictions to flow\", but in any case the manufacturer\n",
        "# gives a chart, whose straight line of pressure drop adjusts with these two points:\n",
        "# (0.0) and (25.5) with (liters/minute, mBar), 25 Liters/min=25*(1/1000)*(1/60)=0.000416 [m3/s] and 5\n",
        "# mBar=(5/1000)*10000=500 Pa. The slope will be = 500/0.000416=1.2e6:\n",
        "  DeltaPMedFlow = Qmix23*1.2e6 # [Pa] with Q_AH in [m3/s]\n",
        "\n",
        "# Converted to Velocity Heads (VH):\n",
        "  hf_MedFlow_CV = DeltaPMedFlow/Rhomix23\n",
        "\n",
        "# Three-way valve evaluated 100% open with only one branch working:\n",
        "# it is not used as a mixer. Flow rate converted to m3/h to use the correlation:\n",
        "  Vdot_mix23_m3_h = Qmix23*3600 # [m3/h]\n",
        "  hf_Valv3Ways23 = 1e5*(Vdot_mix23_m3_h/kvs)**2 # [Pa]\n",
        "\n",
        "# Converted to Velocity Heads (VH):\n",
        "  hf_Valv3Ways23_CV = hf_Valv3Ways23/Rhomix23\n",
        "\n",
        "# Calculate the total K of the analyzed section without including special fittings:\n",
        "  Ktotal_23 = Kline_23 + KFittings_23\n",
        "\n",
        "# Friction losses in the section analyzed in Velocity Heads (VH).\n",
        "# Note that the pressure drop of the special fittings is added in VH:\n",
        "  hf_23_CV = Ktotal_23*0.5*((Qmix23/Asteel)**2) + hf_filter_CV + hf_MedFlow_CV + 2*hf_Valv3Ways23_CV # [m2/s2]\n",
        "\n",
        "# Friction losses in the analyzed section in Pascals [Pa]:\n",
        "  hf_23_Pa = hf_23_CV*Rhomix23 # [(m2/s2)*(kg/m3)]=[kg/m-s2]=[Pa]\n",
        "\n",
        "# With the value of losses in Velocity Heads, the Pressure at point 3 can be found,\n",
        "# solving for P3 in the Mechanical Energy Balance (MEB) between Point 2 and Point 3:\n",
        "  P3[i] = P2[i]-Rhomix23*g*(z2-z3)-Rhomix23*hf_23_CV # [Pa]\n",
        "\n",
        "# Updates the temperature at the end of the section: it equals the temperature at the entrance\n",
        "# under the assumption of negligible thermal energy loss in this section:\n",
        "  T3 = T2\n",
        "\n",
        "# Updates the mole fraction of water vapor in the air at the end of the section.\n",
        "# In this section there is neither removal nor addition of water vapor, the fraction remains the same:\n",
        "  y_3 = y_2\n",
        "\n",
        "# Updates the mass flow of Air and Water Vapor mixture. It only changes if there is addition or\n",
        "# removal of water vapor. In this section there is neither removal nor addition of water vapor,\n",
        "# therefore mass flow remains the same:\n",
        "  mdotmix34 = mdotmix23\n",
        "\n",
        "# ------------------------------------------------------------------------------\n",
        "# PROCESS SYSTEM PS_IV:\n",
        "# Teflon section between points 3 and 4 (Tefl34):\n",
        "# ------------------------------------------------------------------------------\n",
        "# Vapor pressure of water at the conditions of the entry point to the section with Antoine's equation:\n",
        "  PVapor3 = 1000*np.exp(A-(B/(T3+C)))\n",
        "\n",
        "# Mole fraction of water vapor at the saturation point measured at the conditions of the entry point to the section:\n",
        "  y_sat_3 = PVapor3/P3[i]\n",
        "\n",
        "# Relative Humidity recalculated at this point after pressure drop:\n",
        "  RH3[i] = y_3/y_sat_3\n",
        "\n",
        "# Calculation of the Density of the mixture Dry Air (DA) and Water Vapor (WV):\n",
        "  Rhomix34 = (0.001*P3[i]/(R*T3))*MM_Air* (1 - y_3*(1 - (MM_Vapor/MM_Air))) # [kg/m3]\n",
        "\n",
        "# Calculation of the Viscosity of the mixture Dry Air (DA) and Water Vapor (WV):\n",
        "# Viscosity of pure substances as a function of temperature:\n",
        "# Air Viscosity:\n",
        "  MuAir = (1e-6)*(MA0 + MA1*T3 + MA2*T3**2 + MA3*T3**3 + MA4*T3**4)\n",
        "\n",
        "# Water vapor Viscosity:\n",
        "  T3_Celsius = T3 - 273.15\n",
        "  MuVapor = (1e-6)*(MV0 + MV1*T3_Celsius)\n",
        "\n",
        "# Wilke interaction factors for the viscosity of gas mixtures:\n",
        "  FiAV = (np.sqrt(2)/4)*( (1+(MM_Air/MM_Vapor))**(-0.5) )*( 1 + (MuAir/MuVapor)**(0.5)*(MM_Vapor/MM_Air)**(1/4) )**2\n",
        "  FiVA = (np.sqrt(2)/4)*( (1+(MM_Air/MM_Vapor))**(-0.5) )*( 1 + (MuVapor/MuAir)**(0.5)*(MM_Air/MM_Vapor)**(1/4) )**2\n",
        "  Mumix34 = ( ((1-y_3)*MuAir)/((1-y_3)+y_3*FiAV) ) + ( (y_3*MuVapor)/(y_3+(1-y_3)*FiVA) )\n",
        "\n",
        "# Find the volumetric flow rate under these conditions, knowing the mass flow rate:\n",
        "  Vdot_mix34 = mdotmix34/Rhomix34 # [m3/s]\n",
        "\n",
        "# Humid Air velocity that is considered constant in this section because changes in density are not taken into account.\n",
        "  v_Tefl34 = Vdot_mix34/ATefl # [m/s]\n",
        "\n",
        "# Mass of the mixture contained in the section, without considering the content in fittings:\n",
        "  M_mix34 = Rhomix34*V_Tefl34\n",
        "\n",
        "# Reynolds number in the section being analyzed:\n",
        "  Re_34 = Rhomix34*v_Tefl34*DTefl/Mumix34\n",
        "\n",
        "# Darcy friction factor, according to the flow regime:\n",
        "  if Re_34 < 2000:\n",
        "    # Using Analytical Equation for Laminar Flow\n",
        "    fD_34 = 64/Re_34\n",
        "  else:\n",
        "    # Using Shacham's Equation\n",
        "    fD_34 = (-2.*m.log(((RoughTefl/DTefl)/3.71) - (5.02/Re_34)*m.log(((RoughTefl/DTefl)/3.71) + (14.5/Re_34))))**(-2)\n",
        "\n",
        "# Friction Loss Calculation for the Section:\n",
        "  Kline_34 = (L_Tefl34/DTefl)*fD_34\n",
        "\n",
        "# Sum of the K of the fittings, which in this case are:\n",
        "# A flange-type union in stainless steel:\n",
        "  KFittings_34 = 1*( (K1_Union/Re_34) + Kinf_Union*(1+(1/Dsteel_inches))) # A flange-type union\n",
        "\n",
        "# Calculate the total K of the analyzed section without including special fittings\n",
        "  Ktotal_34  = Kline_34 + KFittings_34\n",
        "\n",
        "# Friction losses in the section analyzed in Velocity Heads (VH):\n",
        "  hf_34_CV = Ktotal_34*0.5*((Vdot_mix34/ATefl)**2) # [m2/s2]\n",
        "\n",
        "# Friction losses in the analyzed section in Pascals [Pa]:\n",
        "  hf_34_Pa =hf_34_CV*Rhomix12 # [(m2/s2)*(kg/m3)]=[kg/m-s2]=[Pa]\n",
        "\n",
        "# With the value of losses in Velocity Heads, the Pressure at point 4 can be found,\n",
        "# solving for P2 in the Mechanical Energy Balance (MEB) between Point 3 and Point 4:\n",
        "  P4[i] = P3[i]-Rhomix34*g*(z3-z4)-Rhomix34*hf_34_CV # [Pa]\n",
        "\n",
        "# Updates the temperature at the end of the section: it equals the temperature at\n",
        "# the entrance under the assumption of negligible thermal energy loss in this section:\n",
        "  T4 = T3\n",
        "\n",
        "# Updates the mole fraction of water vapor in the air at the end of the section.\n",
        "# In this section there is neither removal nor addition of water vapor, the fraction remains the same:\n",
        "  y_4 = y_3\n",
        "# Updates the mass flow of Air and Water Vapor mixture. It only changes if there is addition or\n",
        "# removal of water vapor. In this section there is neither removal nor addition of water vapor,\n",
        "# therefore mass flow remains the same:\n",
        "  mdotmix4_In = mdotmix34\n",
        "\n",
        "# Note that these two updates (mass flow and mole fraction of Water vapor) are only to find the entry conditions\n",
        "# to the next section, which is the humidifier. They are NOT valid for the entire section 45 = Humidifier.\n",
        "\n",
        "# ------------------------------------------------------------------------------\n",
        "# PROCESS SYSTEM PS_V: Air side in the Humidifier\n",
        "# Section 4 to 5 inside the Nafion tubes of the humidifier:\n",
        "# ------------------------------------------------------------------------------\n",
        "# Vapor pressure of water at the conditions of the entry point to the section with Antoine's equation:\n",
        "  PVapor4 = 1000*np.exp(A-(B/(T4+C)))\n",
        "\n",
        "# Mole fraction of water vapor at the saturation point measured at the conditions of the entry point to the section:\n",
        "  y_sat_4 = PVapor4/P4[i]\n",
        "\n",
        "# Relative Humidity recalculated at this point after pressure drop:\n",
        "  RH4[i] = y_4/y_sat_4\n",
        "\n",
        "# Calculation of the Density of the mixture Dry Air (DA) and Water Vapor (WV):\n",
        "  Rhomix45 = (0.001*P4[i]/(R*T4))*MM_Air* (1 - y_4*(1 - (MM_Vapor/MM_Air))) # [kg/m3]\n",
        "\n",
        "# Calculation of the Viscosity of the mixture Dry Air (DA) and Water Vapor (WV):\n",
        "# Viscosity of pure substances as a function of temperature:\n",
        "# Air Viscosity:\n",
        "  MuAir = (1e-6)*(MA0 + MA1*T4 + MA2*T4**2 + MA3*T4**3 + MA4*T4**4)\n",
        "\n",
        "# Water vapor viscosity:\n",
        "  T4_Celsius = T4 - 273.15\n",
        "  MuVapor = (1e-6)*(MV0 + MV1*T4_Celsius)\n",
        "\n",
        "# Wilke interaction factors for the viscosity of gas mixtures:\n",
        "  FiAV = (np.sqrt(2)/4)*( (1+(MM_Air/MM_Vapor))**(-0.5) )*( 1 + (MuAir/MuVapor)**(0.5)*(MM_Vapor/MM_Air)**(1/4) )**2\n",
        "  FiVA = (np.sqrt(2)/4)*( (1+(MM_Air/MM_Vapor))**(-0.5) )*( 1 + (MuVapor/MuAir)**(0.5)*(MM_Air/MM_Vapor)**(1/4) )**2\n",
        "  Mumix45 = ( ((1-y_4)*MuAir)/((1-y_4)+y_4*FiAV) ) + ( (y_4*MuVapor)/(y_4+(1-y_4)*FiVA) )\n",
        "\n",
        "# Find the volumetric flow rate under these conditions, knowing the mass flow rate:\n",
        "  Vdot_mix45 = mdotmix4_In/Rhomix45 # [m3/s]\n",
        "\n",
        "# Pressure drop inside the humidifier. Pressure drop in the humidifier, as delivered by the manufacturer.\n",
        "# At nominal flow rate: 10 liters/minutes=10*(1/1000)*(1/60)=0.0001667 [m3/s]. At this flow rate the manufacturer\n",
        "# indicates 210mBar pressure drop=210*(1/1000)*100000=21000Pa. A linear approximation will be used as a function\n",
        "# of the flow rate, passing through the origin: DeltaPHumid=Q in [m3/s] * (21000/0.0001667) =Q*1.26e8.\n",
        "# Pressure drop in [Pa], calculated with Q_AH in [m3/s]:\n",
        "  DeltaPHumid = Vdot_mix45*1.2597e8 # [Pa] The pressure at point 5 is calculated below\n",
        "\n",
        "# Mass balances in this process system to update the moles of water vapor.\n",
        "# The Mass Transfer Flux from the Nafion tubes to the indoor air, first in\n",
        "# mass units according to Solsona et al., 2017. Evaluation of parameters for the calculation:\n",
        "# Average Relative Humidity between entry and exit of air in contact with the membrane:\n",
        "  RHmeanAir[i] = (RH4[i] + RH5[i])/2\n",
        "\n",
        "# Water content in membrane at air side:\n",
        "  AlphaAir[i] = 36*(RHmeanAir[i])**3 - 39.85*(RHmeanAir[i])**2 + 17.81*(RHmeanAir[i]) + 0.043\n",
        "\n",
        "# Average Relative Humidity between the two sides of the membrane:\n",
        "  RHmeanMem[i] = (RH5[i] + 1)/2\n",
        "\n",
        "# Calculation of the AlphaMem parameter: water content of the specified membrane side,\n",
        "# based on the average relative humidity between the two sides of the membrane:\n",
        "  AlphaMem[i] = 36*(RHmeanMem[i])**3 - 39.85*(RHmeanMem[i])**2 + 17.81*(RHmeanMem[i]) + 0.043\n",
        "\n",
        "# Diffusivity through the membrane according to the AlphaMem parameter:\n",
        "  if AlphaMem[i] < 2:\n",
        "    DiffAlpha = 0.1\n",
        "\n",
        "  if AlphaMem[i] >= 2 and AlphaMem[i] <= 3:\n",
        "    DiffAlpha = 1e-6*(1 + 2*(AlphaMem[i]-2))\n",
        "\n",
        "  if AlphaMem[i] > 3 and AlphaMem[i] < 4.5:\n",
        "    DiffAlpha = 1e-6*(3 - 1.67*(AlphaMem[i]-3))\n",
        "\n",
        "  if AlphaMem[i] >= 4.5:\n",
        "    DiffAlpha = 1.25e-6\n",
        "\n",
        "# Average temperature in the section:\n",
        "  Tmean45 = (T4 + T5[i])/2 # [K]\n",
        "\n",
        "# Correction factor for membrane diffusivity by temperature:\n",
        "  Phi = E0*((1/303) - (1/Tmean45)) # Note that there is a limit on the operating temperature at 303 K\n",
        "\n",
        "# Diffusivity through the membrane at current operating conditions:\n",
        "  DiffMem = DiffAlpha*np.exp(Phi)*(1/(100)**2) # [m2/s] but originally given in [cm2/s]\n",
        "\n",
        "# Water concentration (W) on the air side of the membrane:\n",
        "  CW_MemAir[i] = (RhoMem_Dry/MM_Mem_Dry)*AlphaAir[i]\n",
        "\n",
        "# This is a constant:\n",
        "  CW_MemW[i] = CW_MemW_cte\n",
        "\n",
        "# Mass flow of water vapor by Mass transfer from Nafion tubes:\n",
        "# Mass transfer overall coefficient:\n",
        "  K_MT[i] = CorrecK_MT*(DiffMem/Thickness_Mem_Nafion)\n",
        "\n",
        "# Mass Flux due to Mass Transfer:\n",
        "  Mprim_v[i] = K_MT[i]*(CW_MemW[i] - CW_MemAir[i]) # [kgVapor/m2-s]\n",
        "\n",
        "# Mass Flow due to Mass Transfer:\n",
        "  FlowMT[i] = A_Mem*Mprim_v[i]\n",
        "\n",
        "# Molar mass of the mixture in its current concentration conditions, assuming perfect agitation:\n",
        "  MM_mix45[i] = y_5[i]*MM_Vapor + (1-y_5[i])*MM_Air # [kg/kmol]\n",
        "\n",
        "# Pressure change due to the increase in moles due to the water mass transfer from the Nafion tubes:\n",
        "  DeltaP_moles = (FlowMT[i]/MM_mix45[i])*((R*T5[i])/V_mixHumidifier)*1000\n",
        "\n",
        "# With all this, and the value of the pressure drop, the Pressure at point 5 can be found:\n",
        "  P5[i] = P4[i] - DeltaPHumid + DeltaP_moles*Step # [Pa]\n",
        "\n",
        "# TOTAL mass balance:\n",
        "# Inlet mass flow:\n",
        "  mdot4[i] = mdotmix4_In # [kmol/s]\n",
        "\n",
        "# Conversion of mole fractions of air to mass fractions:\n",
        "  w_4[i] = y_4*(MM_Vapor/MM_mix45[i])\n",
        "\n",
        "# Flow at the outlet considering mass transfer.\n",
        "# It is updated in each step with the value of the mass transfer found in the previous step:\n",
        "  mdot5[i] = mdot4[i] + FlowMT[i] # [kg/s]\n",
        "\n",
        "# Differential Equation for the total mass in [kg] contained inside the process system:\n",
        "  deltaM_PS_V = mdot4[i] - mdot5[i] + FlowMT[i]\n",
        "  M_PS_V[i+1] = M_PS_V[i] + deltaM_PS_V*Step\n",
        "\n",
        "# Water vapor mass balance: Dynamic equation for the change of the mass fraction of vapor in air.\n",
        "# The Differential Equation is solved with Euler's method:\n",
        "  deltawv = (1/M_PS_V[i])*(w_4[i]*mdot4[i] - w_5[i]*mdot5[i] + FlowMT[i] - w_5[i]*deltaM_PS_V)\n",
        "  w_5[i+1] = w_5[i] + deltawv*Step\n",
        "\n",
        "# Conversion of mass fractions of water vapor to mole fractions:\n",
        "  y_5[i+1] = w_5[i+1]*(MM_mix45[i]/MM_Vapor)\n",
        "\n",
        "# Thermal Energy Balance between the inlet and outlet of the Nafion tubes of the humidifier.\n",
        "# Specific heat capacity, Remember Cp = Cv + R and then Cv=Cp-R:\n",
        "  T5_Celsius = T5[i] - 273.15\n",
        "\n",
        "# Heat capacity of water vapor:\n",
        "  Cp_v = 1.941058941e-5*(T5_Celsius)**2 - 2.578421578e-4*(T5_Celsius) + 1.86910989\n",
        "\n",
        "# Heat capacity of dry air:\n",
        "  Cp_A = 0.1077024e-12*(T5_Celsius)**4 - 0.4970786e-9*(T5_Celsius)**3\\\n",
        "  + 0.7816818e-6*(T5_Celsius)**2 - 0.284887e-3*(T5_Celsius) + 0.103409e1\n",
        "\n",
        "# Heat capacity of the mixture at constant pressure, considered as an ideal mixture:\n",
        "  Cp_mix45 = Cp_A*(1-y_5[i])*(MM_Air/MM_Vapor) + Cp_v*y_5[i]*(MM_Vapor/MM_Air)\n",
        "\n",
        "# Particular constant R for Water Vapor:\n",
        "  R_v = 0.4615 # [kJ/kg-K]\n",
        "\n",
        "# Particular constant R for Air:\n",
        "  R_A =  0.2869 # [kJ/kg-K]\n",
        "\n",
        "# Heat capacity at Constant Volume of Water Vapor:\n",
        "  Cv_v = Cp_v - R_v\n",
        "\n",
        "# Heat capacity at Constant Volume of Air:\n",
        "  Cv_A = Cp_A - R_A\n",
        "\n",
        "# Heat capacity of the mixture at constant volume, considered as an ideal mixture:\n",
        "  Cv_mix45 = Cv_A*(1-y_5[i])*(MM_Air/MM_Vapor) + Cv_v*y_5[i]*(MM_Vapor/MM_Air)\n",
        "\n",
        "# Heat transferred from the Nafion tubes to the humid air:\n",
        "  Qdot_TubestoAir = hAir*A_H_Tubes*(T8[i]-T5[i])\n",
        "\n",
        "# Solve the Differential Equation for the air outlet temperature in point 5:\n",
        "  deltaT5 = (1/(Cv_mix45*M_PS_V[i]))*(-FlowMT[i]*Cp_v*(T5[i]-T8[i]) + Qdot_TubestoAir*0)\n",
        "  T5[i+1] = T5[i] + deltaT5*Step\n",
        "# The term Qdot_TubestoAir is set here as zero due to the poor thermal\n",
        "# conductivity of air. This remains consistent with the model validation.\n",
        "\n",
        "# Converts the mole fraction of water vapor to Relative Humidity at the humidifier outlet.\n",
        "# This to get the value ready for the next step:\n",
        "# Vapor pressure of water at the conditions of the entry point to the section with Antoine's equation:\n",
        "  PVapor5[i] = 1000*np.exp(A-(B/(T5[i+1]+C)))\n",
        "\n",
        "# Mole fraction of water vapor at the saturation point measured at the conditions of\n",
        "# the entry point to the section:\n",
        "  y_sat_5 = PVapor5[i]/P5[i]\n",
        "\n",
        "# Relative Humidity recalculated at this point after pressure drop:\n",
        "  RH5[i+1] = y_5[i+1]/y_sat_5\n",
        "\n",
        "# Updates mass flow for the next section in the Humid Air conduction line:\n",
        "  mdotmix56 = mdot5[i]\n",
        "\n",
        "# ------------------------------------------------------------------------------\n",
        "# PROCESS SYSTEM PS_VI: Liquid water contained in the humidifier\n",
        "# Section 4 to 5 outside the Nafion tubes of the humidifier:\n",
        "# ------------------------------------------------------------------------------\n",
        "# Solve the Differential Equation of the Water temperature in the container,\n",
        "# assuming controlled level and therefore constant mass:\n",
        "  deltaT8 = (1/(Cp_w_liq*M_PSVI))*(-FlowMT[i]*LambdaVap + Qdot_Heater1\\\n",
        "  - Qdot_TubestoAir - QLost - Cp_w_liq*(T8[i] - T_InLiqWater)*FlowMT[i])\n",
        "  T8[i+1] = T8[i] + deltaT8*Step\n",
        "\n",
        "# ------------------------------------------------------------------------------\n",
        "# PROCESS SYSTEM PS_VII:\n",
        "# Teflon section between points 5 and 6 (Tefl56):\n",
        "# ------------------------------------------------------------------------------\n",
        "# Update moles of water vapor in the air at the end of the section:\n",
        "# In this section there is neither removal nor addition of water vapor, the fraction remains the same:\n",
        "  y_6[i+1] = y_5[i+1]\n",
        "\n",
        "# Calculation of the Density of the mixture Dry Air (DA) and Water Vapor (WV):\n",
        "  Rhomix56 = (0.001*P5[i]/(R*T5[i]))*MM_Air* (1 - y_5[i]*(1 - (MM_Vapor/MM_Air))) # [kg/m3]\n",
        "\n",
        "# Calculation of the Viscosity of the mixture Dry Air (DA) and Water Vapor (WV):\n",
        "# Viscosity of pure substances as a function of temperature:\n",
        "# Air Viscosity:\n",
        "  MuAir = (1e-6)*(MA0 + MA1*T5[i] + MA2*T5[i]**2 + MA3*T5[i]**3 + MA4*T5[i]**4)\n",
        "\n",
        "# Water vapor viscosity:\n",
        "  T6_Celsius = T6[i] - 273.15;\n",
        "  MuVapor = (1e-6)*(MV0 + MV1*T6_Celsius)\n",
        "\n",
        "# Wilke interaction factors for the viscosity of gas mixtures:\n",
        "  FiAV = (np.sqrt(2)/4)*( (1+(MM_Air/MM_Vapor))**(-0.5) )*( 1 + (MuAir/MuVapor)**(0.5)*(MM_Vapor/MM_Air)**(1/4) )**2\n",
        "  FiVA = (np.sqrt(2)/4)*( (1+(MM_Air/MM_Vapor))**(-0.5) )*( 1 + (MuVapor/MuAir)**(0.5)*(MM_Air/MM_Vapor)**(1/4) )**2\n",
        "  Mumix56 = ( ((1-y_6[i])*MuAir)/((1-y_5[i])+y_6[i]*FiAV) ) + ( (y_6[i]*MuVapor)/(y_6[i]+(1-y_6[i])*FiVA) )\n",
        "\n",
        "# Find the volumetric flow rate under these conditions, knowing the mass flow rate:\n",
        "  Vdot_56 = mdotmix56/Rhomix56 # [m3/s]\n",
        "\n",
        "# Humid Air velocity in the section, which is considered constant:\n",
        "  v_Tefl56 = Vdot_56/ATefl # [m/s]\n",
        "\n",
        "# Mass of the mixture contained in the section, without considering the content in fittings:\n",
        "  M_mix56 = Rhomix56*V_Tefl56\n",
        "\n",
        "# Reynolds number in the section being analyzed:\n",
        "  Re_56 = Rhomix56*v_Tefl56*DTefl/Mumix56\n",
        "\n",
        "# Darcy friction factor, according to the flow regime:\n",
        "  if Re_56 < 2000:\n",
        "    # Using Analytical Equation for Laminar Flow\n",
        "    fD_56 = 64/Re_56\n",
        "  else:\n",
        "    # Using Shacham's Equation\n",
        "    fD_56 = (-2.*m.log(((RoughTefl/DTefl)/3.71) - (5.02/Re_56)*m.log(((RoughTefl/DTefl)/3.71) + (14.5/Re_56))))**(-2)\n",
        "\n",
        "# Friction Loss Calculation for the Section:\n",
        "  Kline_56 = (L_Tefl56/DTefl)*fD_56\n",
        "\n",
        "# Sum of the K of the fittings, which in this case are:\n",
        "# A Tee as elbow, Stainless steel fitting welding type union:\n",
        "  KFittings_56 = 1*( (K1_90_Tee/Re_56) + Kinf_90_Tee*(1+(1/Dsteel_inches))) # A Tee as elbow\n",
        "\n",
        "# Calculate the total K of the analyzed section without including special fittings:\n",
        "  Ktotal_56  = Kline_56 + KFittings_56\n",
        "\n",
        "# Friction losses in the section analyzed in Velocity Heads (VH):\n",
        "  hf_56_CV = Ktotal_56*0.5*((Vdot_56/ATefl)**2) # [m2/s2]\n",
        "\n",
        "# Friction losses in the analyzed section in Pascals [Pa]:\n",
        "  hf_56_Pa = hf_56_CV*Rhomix56 # [(m2/s2)*(kg/m3)]=[kg/m-s2]=[Pa]\n",
        "\n",
        "# With the value of losses in Velocity Heads, the Pressure at point 6 can be found,\n",
        "# solving for P6 in the Mechanical Energy Balance (MEB) between Point 5 and Point 6:\n",
        "  P6[i] = P5[i] - Rhomix56*hf_56_CV # [Pa]\n",
        "\n",
        "# Heat capacity of water vapor:\n",
        "  Cp_v = 1.941058941e-5*(T6_Celsius)**2 - 2.578421578e-4*(T6_Celsius) + 1.86910989\n",
        "\n",
        "# Heat capacity of dry air\n",
        "  Cp_A = 0.1077024e-12*(T6_Celsius)**4 - 0.4970786e-9*(T6_Celsius)**3\\\n",
        "  + 0.7816818e-6*(T6_Celsius)**2 - 0.284887e-3*(T6_Celsius) + 0.103409e1\n",
        "\n",
        "# Heat capacity of the mixture at constant pressure, considered as an ideal mixture:\n",
        "  Cp_mix56 = Cp_A*(1-y_6[i])*(MM_Air/MM_Vapor) + Cp_v*y_6[i]*(MM_Vapor/MM_Air)\n",
        "\n",
        "# Particular constant R for Water Vapor:\n",
        "  R_v = 0.4615 # [kJ/kg-K]\n",
        "\n",
        "# Particular constant R for Air:\n",
        "  R_A = 0.2869 # [kJ/kg-K]\n",
        "\n",
        "# Heat capacity of Water vapor at Constant Volume:\n",
        "  Cv_v = Cp_v - R_v\n",
        "\n",
        "# Heat capacity of air vapor at Constant Volume:\n",
        "  Cv_A = Cp_A - R_A\n",
        "\n",
        "# Heat capacity of the mixture at Constant Volume, considered as an ideal mixture:\n",
        "  Cv_mix56 = Cv_A*(1-y_6[i])*(MM_Air/MM_Vapor) + Cv_v*y_6[i]*(MM_Vapor/MM_Air)\n",
        "\n",
        "# Energy Balance to calculate the exit temperature of the entire system,\n",
        "# which is the temperature T6, at the entrance to the fuel cell cathode:\n",
        "  deltaT6 = (1/(Cv_mix56*M_mix56))*(mdotmix56*Cp_mix56*(T5[i]-T6[i]) + Control_action_2*Qdot_Heater2)\n",
        "  T6[i+1] = T6[i] + deltaT6*Step\n",
        "\n",
        "# Converts the mole fraction of water vapor to Relative Humidity at the outlet of the entire assembly.\n",
        "# This to prepare the RH value that enters the Cell:\n",
        "# Vapor pressure of water at the conditions of the entry point to the section with Antoine's equation:\n",
        "  PVapor6[i] = 1000*np.exp(A-(B/(T6[i+1]+C)))\n",
        "\n",
        "# Mole fraction of water vapor at the saturation point measured at the conditions of the entry point to the section:\n",
        "  y_sat_6 = PVapor6[i]/P6[i]\n",
        "\n",
        "# Relative Humidity recalculated at this point after pressure drop:\n",
        "  RH6[i+1] = y_6[i+1]/y_sat_6\n",
        "\n",
        "# Calculation of the Density of the mixture Dry Air (DA) and Water Vapor (WV):\n",
        "  Rhomix6 = (0.001*P6[i]/(R*T6[i]))*MM_Air* (1 - y_6[i]*(1 - (MM_Vapor/MM_Air))) # [kg/m3]"
      ],
      "metadata": {
        "id": "odDlc2rCqxEp"
      },
      "execution_count": null,
      "outputs": []
    },
    {
      "cell_type": "markdown",
      "source": [
        "Adjust the length of the vectors to be able to plot, if necessary:"
      ],
      "metadata": {
        "id": "Jwpeh8qzSVuR"
      }
    },
    {
      "cell_type": "code",
      "source": [
        "RHAmb[Iterations] = RHAmb[Iterations-1]\n",
        "TAmb[Iterations] = TAmb[Iterations-1]\n",
        "P5[Iterations] = P5[Iterations-1]\n",
        "FlowMT[Iterations] = FlowMT[Iterations-1]\n",
        "M_PS_V[Iterations] = M_PS_V[Iterations-1]\n",
        "Mprim_v[Iterations] = Mprim_v[Iterations-1]\n",
        "CW_MemAir[Iterations] = CW_MemAir[Iterations-1]\n",
        "K_MT[Iterations] = K_MT[Iterations-1]\n",
        "AlphaAir[Iterations] = AlphaAir[Iterations-1]\n",
        "RHmeanAir[Iterations] = RHmeanAir[Iterations-1]"
      ],
      "metadata": {
        "id": "Wut5mcgoSieY"
      },
      "execution_count": null,
      "outputs": []
    },
    {
      "cell_type": "markdown",
      "source": [
        "## Plots"
      ],
      "metadata": {
        "id": "sZ1eTHvacUGM"
      }
    },
    {
      "cell_type": "code",
      "source": [
        "fig, ax = plt.subplots(3, 1, sharex = True, figsize=(7,11))\n",
        "\n",
        "ax[0].plot(tSimula, RH5*100, 'k', linewidth=2, label = 'Model RH')\n",
        "ax[0].plot(t_RH_Sol, RH_Sol, 'c.--', linewidth=1, label = 'Experimental')\n",
        "ax[0].set_ylabel('Relative Humidity [%]')\n",
        "#ax[0].set_xlim(0)\n",
        "ax[0].legend()\n",
        "ax[0].grid(True)\n",
        "\n",
        "ax[1].plot(tSimula, T5-273, 'k', linewidth=2, label = 'Model Temperature')\n",
        "ax[1].plot(t_TAir_Sol, TAir_Sol, 'c.--', linewidth=1, label = 'Experimental')\n",
        "ax[1].set_ylabel('Temperature [°C]')\n",
        "#ax[1].set_xlim(0)\n",
        "ax[1].legend()\n",
        "ax[1].grid(True)\n",
        "\n",
        "ax[2].plot(tSimula, P5, 'k', linewidth=2, label = 'Model Pressure')\n",
        "ax[2].plot(t_P5_Sol, P5_Sol, 'c.--', linewidth=1, label = 'Experimental')\n",
        "ax[2].set_ylabel('Pressure [Pa]')\n",
        "#ax[2].set_xlim(0)\n",
        "ax[2].legend()\n",
        "ax[2].grid(True)\n",
        "ax[2].set_xlabel('time [s]')\n",
        "plt.show()"
      ],
      "metadata": {
        "id": "AiZjE3XGFEJF"
      },
      "execution_count": null,
      "outputs": []
    }
  ]
}